{
 "cells": [
  {
   "cell_type": "code",
   "execution_count": 1,
   "metadata": {},
   "outputs": [],
   "source": [
    "import os\n",
    "import parmed as pmd\n",
    "import subprocess as sp"
   ]
  },
  {
   "cell_type": "markdown",
   "metadata": {},
   "source": [
    "## Process Host files"
   ]
  },
  {
   "cell_type": "code",
   "execution_count": 2,
   "metadata": {},
   "outputs": [],
   "source": [
    "gaff_version = 'gaff'\n",
    "host_folder = 'host_files'\n",
    "host_resname = 'MGO'\n",
    "host_name = [\"bCD\"]\n",
    "host_name += [f\"MGLab{i}\" for i in [8, 9, 19, 23, 24, 34, 35, 36]]"
   ]
  },
  {
   "cell_type": "code",
   "execution_count": 3,
   "metadata": {},
   "outputs": [
    {
     "name": "stdout",
     "output_type": "stream",
     "text": [
      "Processing host bCD\n",
      "Processing host MGLab8\n",
      "Processing host MGLab9\n",
      "Processing host MGLab19\n",
      "Processing host MGLab23\n",
      "Processing host MGLab24\n",
      "Processing host MGLab34\n",
      "Processing host MGLab35\n",
      "Processing host MGLab36\n"
     ]
    }
   ],
   "source": [
    "for host in host_name:\n",
    "    print(f\"Processing host {host}\")\n",
    "    \n",
    "    # Antechamber\n",
    "    output = sp.Popen(\n",
    "        ['antechamber', \n",
    "         '-fi', 'mol2', '-i', f'{host}.mol2',\n",
    "         '-fo', 'mol2', '-o', f'{host}.{gaff_version}.mol2',\n",
    "         '-at', gaff_version, '-rn', host_resname],\n",
    "        stdout=sp.PIPE,\n",
    "        stderr=sp.PIPE,\n",
    "        cwd=host_folder,\n",
    "    )\n",
    "    output = output.stdout.read().decode().splitlines()\n",
    "    \n",
    "    # Parmchk2\n",
    "    output = sp.Popen(\n",
    "        ['parmchk2',\n",
    "         '-s', gaff_version,\n",
    "         '-f', 'mol2',\n",
    "         '-i', f'{host}.{gaff_version}.mol2',\n",
    "         '-o', f'{host}.{gaff_version}.frcmod'],\n",
    "        stdout=sp.PIPE,\n",
    "        stderr=sp.PIPE,\n",
    "        cwd=host_folder,\n",
    "    )\n",
    "    output = output.stdout.read().decode().splitlines()\n",
    "\n",
    "    # Vcharges\n",
    "    output = sp.Popen(\n",
    "        ['Vcharge_core',\n",
    "         f'{host}.sdf',\n",
    "         '-o', f'{host}_vcharge.log',\n",
    "         '-p', f'{host}_vcharge.sdf',\n",
    "         '-fc'],\n",
    "        stdout=sp.PIPE,\n",
    "        stderr=sp.PIPE,\n",
    "        cwd=host_folder,\n",
    "    )\n",
    "    output = output.stdout.read().decode().splitlines()\n",
    "    \n",
    "    # Extract vcharges\n",
    "    output = sp.Popen(\n",
    "        ['extractCharges_core',\n",
    "         f'{host}_vcharge.sdf',\n",
    "        '-o', f'{host}_vcharge.txt'],\n",
    "        stdout=sp.PIPE,\n",
    "        stderr=sp.PIPE,\n",
    "        cwd=host_folder,\n",
    "    )\n",
    "    output = output.stdout.read().decode().splitlines()\n",
    "\n",
    "    # Update charges in mol2 file\n",
    "    vcharges = open(os.path.join(host_folder, f'{host}_vcharge.txt'), 'r').readlines()[1:]\n",
    "    structure = pmd.load_file(os.path.join(host_folder, f'{host}.{gaff_version}.mol2'), structure=True)\n",
    "\n",
    "    for atom, charge in zip(structure.atoms, vcharges):\n",
    "        atom.charge = float(charge)\n",
    "\n",
    "    structure.save(os.path.join(host_folder, f'{host}.vcharge.{gaff_version}.mol2'), overwrite=True)"
   ]
  },
  {
   "cell_type": "markdown",
   "metadata": {},
   "source": [
    "## Process Guest files"
   ]
  },
  {
   "cell_type": "code",
   "execution_count": 4,
   "metadata": {},
   "outputs": [],
   "source": [
    "gaff_version = 'gaff'\n",
    "guest_folder = 'guest_files'\n",
    "guest_resname = ['MCH', 'RMT']\n",
    "guest_name = ['g1', 'g2']"
   ]
  },
  {
   "cell_type": "code",
   "execution_count": 5,
   "metadata": {},
   "outputs": [
    {
     "name": "stdout",
     "output_type": "stream",
     "text": [
      "Processing guest g1-MCH\n",
      "Processing guest g2-RMT\n"
     ]
    }
   ],
   "source": [
    "for guest, resname in zip(guest_name, guest_resname):\n",
    "    print(f\"Processing guest {guest}-{resname}\")\n",
    "    \n",
    "    # Antechamber\n",
    "    output = sp.Popen(\n",
    "        ['antechamber', \n",
    "         '-fi', 'mol2', '-i', f'{guest}.mol2',\n",
    "         '-fo', 'mol2', '-o', f'{resname}.{gaff_version}.mol2',\n",
    "         '-at', gaff_version, '-rn', resname],\n",
    "        stdout=sp.PIPE,\n",
    "        stderr=sp.PIPE,\n",
    "        cwd=guest_folder,\n",
    "    )\n",
    "    output = output.stdout.read().decode().splitlines()\n",
    "    \n",
    "    # Parmchk2\n",
    "    output = sp.Popen(\n",
    "        ['parmchk2',\n",
    "         '-s', gaff_version,\n",
    "         '-f', 'mol2',\n",
    "         '-i', f'{resname}.{gaff_version}.mol2',\n",
    "         '-o', f'{resname}.{gaff_version}.frcmod'],\n",
    "        stdout=sp.PIPE,\n",
    "        stderr=sp.PIPE,\n",
    "        cwd=guest_folder,\n",
    "    )\n",
    "    output = output.stdout.read().decode().splitlines()\n",
    "\n",
    "    # Vcharges\n",
    "    output = sp.Popen(\n",
    "        ['Vcharge_core',\n",
    "         f'{guest}.sdf',\n",
    "         '-o', f'{resname}_vcharge.log',\n",
    "         '-p', f'{resname}_vcharge.sdf',\n",
    "         '-fc'],\n",
    "        stdout=sp.PIPE,\n",
    "        stderr=sp.PIPE,\n",
    "        cwd=guest_folder,\n",
    "    )\n",
    "    output = output.stdout.read().decode().splitlines()\n",
    "    \n",
    "    # Extract vcharges\n",
    "    output = sp.Popen(\n",
    "        ['extractCharges_core',\n",
    "         f'{resname}_vcharge.sdf',\n",
    "        '-o', f'{resname}_vcharge.txt'],\n",
    "        stdout=sp.PIPE,\n",
    "        stderr=sp.PIPE,\n",
    "        cwd=guest_folder,\n",
    "    )\n",
    "    output = output.stdout.read().decode().splitlines()\n",
    "\n",
    "    # Update charges in mol2 file\n",
    "    vcharges = open(os.path.join(guest_folder, f'{resname}_vcharge.txt'), 'r').readlines()[1:]\n",
    "    structure = pmd.load_file(os.path.join(guest_folder, f'{resname}.{gaff_version}.mol2'), structure=True)\n",
    "\n",
    "    for atom, charge in zip(structure.atoms, vcharges):\n",
    "        atom.charge = float(charge)\n",
    "\n",
    "    structure.save(os.path.join(guest_folder, f'{resname}.vcharge.{gaff_version}.mol2'), overwrite=True)"
   ]
  },
  {
   "cell_type": "code",
   "execution_count": null,
   "metadata": {},
   "outputs": [],
   "source": []
  }
 ],
 "metadata": {
  "kernelspec": {
   "display_name": "Python 3",
   "language": "python",
   "name": "python3"
  },
  "language_info": {
   "codemirror_mode": {
    "name": "ipython",
    "version": 3
   },
   "file_extension": ".py",
   "mimetype": "text/x-python",
   "name": "python",
   "nbconvert_exporter": "python",
   "pygments_lexer": "ipython3",
   "version": "3.7.6"
  }
 },
 "nbformat": 4,
 "nbformat_minor": 4
}
